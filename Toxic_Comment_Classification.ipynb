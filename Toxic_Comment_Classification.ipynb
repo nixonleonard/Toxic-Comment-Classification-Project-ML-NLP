{
  "cells": [
    {
      "cell_type": "markdown",
      "metadata": {
        "id": "view-in-github",
        "colab_type": "text"
      },
      "source": [
        "<a href=\"https://colab.research.google.com/github/nixonleonard/Toxic-Comment-Classification-Project-ML-NLP/blob/main/Toxic_Comment_Classification.ipynb\" target=\"_parent\"><img src=\"https://colab.research.google.com/assets/colab-badge.svg\" alt=\"Open In Colab\"/></a>"
      ]
    },
    {
      "cell_type": "markdown",
      "metadata": {
        "id": "YA1QybalXGDw"
      },
      "source": [
        "##Import Library"
      ]
    },
    {
      "cell_type": "code",
      "execution_count": 1,
      "metadata": {
        "colab": {
          "base_uri": "https://localhost:8080/"
        },
        "id": "m8Y4NET2FjHb",
        "outputId": "4ed79656-6e8f-4f61-9b37-3dfa38ab381b"
      },
      "outputs": [
        {
          "output_type": "stream",
          "name": "stderr",
          "text": [
            "[nltk_data] Downloading package stopwords to /root/nltk_data...\n",
            "[nltk_data]   Unzipping corpora/stopwords.zip.\n"
          ]
        }
      ],
      "source": [
        "import os\n",
        "import re\n",
        "import nltk\n",
        "import string\n",
        "import pandas as pd\n",
        "import numpy as np\n",
        "import matplotlib.pyplot as plt\n",
        "import seaborn as sns\n",
        "import tensorflow as tf\n",
        "\n",
        "from wordcloud import WordCloud\n",
        "from tensorflow.keras.models import Sequential\n",
        "from tensorflow.keras.layers import TextVectorization,  LSTM, Dropout, Bidirectional, Dense, Embedding\n",
        "from tensorflow.keras.metrics import Precision, Recall, CategoricalAccuracy\n",
        "from sklearn.model_selection import train_test_split\n",
        "\n",
        "nltk.download('stopwords')\n",
        "\n",
        "from nltk.corpus import stopwords"
      ]
    },
    {
      "cell_type": "markdown",
      "metadata": {
        "id": "0V-NEmk_XMes"
      },
      "source": [
        "##Import Dataset"
      ]
    },
    {
      "cell_type": "code",
      "execution_count": 3,
      "metadata": {
        "colab": {
          "base_uri": "https://localhost:8080/"
        },
        "id": "ui8zsrVLJ8rs",
        "outputId": "9309c160-bc1d-4c94-a447-05b5a31648f6"
      },
      "outputs": [
        {
          "output_type": "stream",
          "name": "stdout",
          "text": [
            "Mounted at /content/gdrive\n"
          ]
        }
      ],
      "source": [
        "from google.colab import drive\n",
        "drive.mount('/content/gdrive')"
      ]
    },
    {
      "cell_type": "code",
      "execution_count": 4,
      "metadata": {
        "id": "a4zlt6aaOAFf"
      },
      "outputs": [],
      "source": [
        "df = pd.read_csv('/content/gdrive/MyDrive/Colab Notebooks/Projects/Toxic Comment Classification/Dataset/train.csv')"
      ]
    },
    {
      "cell_type": "code",
      "execution_count": 5,
      "metadata": {
        "colab": {
          "base_uri": "https://localhost:8080/",
          "height": 206
        },
        "id": "zn6AXrTUvFI6",
        "outputId": "5fad6372-8673-436c-f0f7-8beb36060f5e"
      },
      "outputs": [
        {
          "output_type": "execute_result",
          "data": {
            "text/plain": [
              "                 id                                       comment_text  toxic  \\\n",
              "0  0000997932d777bf  Explanation\\nWhy the edits made under my usern...      0   \n",
              "1  000103f0d9cfb60f  D'aww! He matches this background colour I'm s...      0   \n",
              "2  000113f07ec002fd  Hey man, I'm really not trying to edit war. It...      0   \n",
              "3  0001b41b1c6bb37e  \"\\nMore\\nI can't make any real suggestions on ...      0   \n",
              "4  0001d958c54c6e35  You, sir, are my hero. Any chance you remember...      0   \n",
              "\n",
              "   severe_toxic  obscene  threat  insult  identity_hate  \n",
              "0             0        0       0       0              0  \n",
              "1             0        0       0       0              0  \n",
              "2             0        0       0       0              0  \n",
              "3             0        0       0       0              0  \n",
              "4             0        0       0       0              0  "
            ],
            "text/html": [
              "\n",
              "  <div id=\"df-ce973a4e-88e3-4ebb-9fae-15be941f3f99\">\n",
              "    <div class=\"colab-df-container\">\n",
              "      <div>\n",
              "<style scoped>\n",
              "    .dataframe tbody tr th:only-of-type {\n",
              "        vertical-align: middle;\n",
              "    }\n",
              "\n",
              "    .dataframe tbody tr th {\n",
              "        vertical-align: top;\n",
              "    }\n",
              "\n",
              "    .dataframe thead th {\n",
              "        text-align: right;\n",
              "    }\n",
              "</style>\n",
              "<table border=\"1\" class=\"dataframe\">\n",
              "  <thead>\n",
              "    <tr style=\"text-align: right;\">\n",
              "      <th></th>\n",
              "      <th>id</th>\n",
              "      <th>comment_text</th>\n",
              "      <th>toxic</th>\n",
              "      <th>severe_toxic</th>\n",
              "      <th>obscene</th>\n",
              "      <th>threat</th>\n",
              "      <th>insult</th>\n",
              "      <th>identity_hate</th>\n",
              "    </tr>\n",
              "  </thead>\n",
              "  <tbody>\n",
              "    <tr>\n",
              "      <th>0</th>\n",
              "      <td>0000997932d777bf</td>\n",
              "      <td>Explanation\\nWhy the edits made under my usern...</td>\n",
              "      <td>0</td>\n",
              "      <td>0</td>\n",
              "      <td>0</td>\n",
              "      <td>0</td>\n",
              "      <td>0</td>\n",
              "      <td>0</td>\n",
              "    </tr>\n",
              "    <tr>\n",
              "      <th>1</th>\n",
              "      <td>000103f0d9cfb60f</td>\n",
              "      <td>D'aww! He matches this background colour I'm s...</td>\n",
              "      <td>0</td>\n",
              "      <td>0</td>\n",
              "      <td>0</td>\n",
              "      <td>0</td>\n",
              "      <td>0</td>\n",
              "      <td>0</td>\n",
              "    </tr>\n",
              "    <tr>\n",
              "      <th>2</th>\n",
              "      <td>000113f07ec002fd</td>\n",
              "      <td>Hey man, I'm really not trying to edit war. It...</td>\n",
              "      <td>0</td>\n",
              "      <td>0</td>\n",
              "      <td>0</td>\n",
              "      <td>0</td>\n",
              "      <td>0</td>\n",
              "      <td>0</td>\n",
              "    </tr>\n",
              "    <tr>\n",
              "      <th>3</th>\n",
              "      <td>0001b41b1c6bb37e</td>\n",
              "      <td>\"\\nMore\\nI can't make any real suggestions on ...</td>\n",
              "      <td>0</td>\n",
              "      <td>0</td>\n",
              "      <td>0</td>\n",
              "      <td>0</td>\n",
              "      <td>0</td>\n",
              "      <td>0</td>\n",
              "    </tr>\n",
              "    <tr>\n",
              "      <th>4</th>\n",
              "      <td>0001d958c54c6e35</td>\n",
              "      <td>You, sir, are my hero. Any chance you remember...</td>\n",
              "      <td>0</td>\n",
              "      <td>0</td>\n",
              "      <td>0</td>\n",
              "      <td>0</td>\n",
              "      <td>0</td>\n",
              "      <td>0</td>\n",
              "    </tr>\n",
              "  </tbody>\n",
              "</table>\n",
              "</div>\n",
              "      <button class=\"colab-df-convert\" onclick=\"convertToInteractive('df-ce973a4e-88e3-4ebb-9fae-15be941f3f99')\"\n",
              "              title=\"Convert this dataframe to an interactive table.\"\n",
              "              style=\"display:none;\">\n",
              "        \n",
              "  <svg xmlns=\"http://www.w3.org/2000/svg\" height=\"24px\"viewBox=\"0 0 24 24\"\n",
              "       width=\"24px\">\n",
              "    <path d=\"M0 0h24v24H0V0z\" fill=\"none\"/>\n",
              "    <path d=\"M18.56 5.44l.94 2.06.94-2.06 2.06-.94-2.06-.94-.94-2.06-.94 2.06-2.06.94zm-11 1L8.5 8.5l.94-2.06 2.06-.94-2.06-.94L8.5 2.5l-.94 2.06-2.06.94zm10 10l.94 2.06.94-2.06 2.06-.94-2.06-.94-.94-2.06-.94 2.06-2.06.94z\"/><path d=\"M17.41 7.96l-1.37-1.37c-.4-.4-.92-.59-1.43-.59-.52 0-1.04.2-1.43.59L10.3 9.45l-7.72 7.72c-.78.78-.78 2.05 0 2.83L4 21.41c.39.39.9.59 1.41.59.51 0 1.02-.2 1.41-.59l7.78-7.78 2.81-2.81c.8-.78.8-2.07 0-2.86zM5.41 20L4 18.59l7.72-7.72 1.47 1.35L5.41 20z\"/>\n",
              "  </svg>\n",
              "      </button>\n",
              "      \n",
              "  <style>\n",
              "    .colab-df-container {\n",
              "      display:flex;\n",
              "      flex-wrap:wrap;\n",
              "      gap: 12px;\n",
              "    }\n",
              "\n",
              "    .colab-df-convert {\n",
              "      background-color: #E8F0FE;\n",
              "      border: none;\n",
              "      border-radius: 50%;\n",
              "      cursor: pointer;\n",
              "      display: none;\n",
              "      fill: #1967D2;\n",
              "      height: 32px;\n",
              "      padding: 0 0 0 0;\n",
              "      width: 32px;\n",
              "    }\n",
              "\n",
              "    .colab-df-convert:hover {\n",
              "      background-color: #E2EBFA;\n",
              "      box-shadow: 0px 1px 2px rgba(60, 64, 67, 0.3), 0px 1px 3px 1px rgba(60, 64, 67, 0.15);\n",
              "      fill: #174EA6;\n",
              "    }\n",
              "\n",
              "    [theme=dark] .colab-df-convert {\n",
              "      background-color: #3B4455;\n",
              "      fill: #D2E3FC;\n",
              "    }\n",
              "\n",
              "    [theme=dark] .colab-df-convert:hover {\n",
              "      background-color: #434B5C;\n",
              "      box-shadow: 0px 1px 3px 1px rgba(0, 0, 0, 0.15);\n",
              "      filter: drop-shadow(0px 1px 2px rgba(0, 0, 0, 0.3));\n",
              "      fill: #FFFFFF;\n",
              "    }\n",
              "  </style>\n",
              "\n",
              "      <script>\n",
              "        const buttonEl =\n",
              "          document.querySelector('#df-ce973a4e-88e3-4ebb-9fae-15be941f3f99 button.colab-df-convert');\n",
              "        buttonEl.style.display =\n",
              "          google.colab.kernel.accessAllowed ? 'block' : 'none';\n",
              "\n",
              "        async function convertToInteractive(key) {\n",
              "          const element = document.querySelector('#df-ce973a4e-88e3-4ebb-9fae-15be941f3f99');\n",
              "          const dataTable =\n",
              "            await google.colab.kernel.invokeFunction('convertToInteractive',\n",
              "                                                     [key], {});\n",
              "          if (!dataTable) return;\n",
              "\n",
              "          const docLinkHtml = 'Like what you see? Visit the ' +\n",
              "            '<a target=\"_blank\" href=https://colab.research.google.com/notebooks/data_table.ipynb>data table notebook</a>'\n",
              "            + ' to learn more about interactive tables.';\n",
              "          element.innerHTML = '';\n",
              "          dataTable['output_type'] = 'display_data';\n",
              "          await google.colab.output.renderOutput(dataTable, element);\n",
              "          const docLink = document.createElement('div');\n",
              "          docLink.innerHTML = docLinkHtml;\n",
              "          element.appendChild(docLink);\n",
              "        }\n",
              "      </script>\n",
              "    </div>\n",
              "  </div>\n",
              "  "
            ]
          },
          "metadata": {},
          "execution_count": 5
        }
      ],
      "source": [
        "df.head()"
      ]
    },
    {
      "cell_type": "markdown",
      "metadata": {
        "id": "9k8f7cYnXSYF"
      },
      "source": [
        "##Explanatory Data Analysis"
      ]
    },
    {
      "cell_type": "code",
      "execution_count": 6,
      "metadata": {
        "colab": {
          "base_uri": "https://localhost:8080/"
        },
        "id": "yU49hIa1glXo",
        "outputId": "b7d12a4d-8acd-46eb-a6b4-3464497ed4b6"
      },
      "outputs": [
        {
          "output_type": "execute_result",
          "data": {
            "text/plain": [
              "id               0\n",
              "comment_text     0\n",
              "toxic            0\n",
              "severe_toxic     0\n",
              "obscene          0\n",
              "threat           0\n",
              "insult           0\n",
              "identity_hate    0\n",
              "dtype: int64"
            ]
          },
          "metadata": {},
          "execution_count": 6
        }
      ],
      "source": [
        "df.isna().sum()"
      ]
    },
    {
      "cell_type": "code",
      "execution_count": 7,
      "metadata": {
        "colab": {
          "base_uri": "https://localhost:8080/",
          "height": 424
        },
        "id": "P7mZse8KOi-a",
        "outputId": "2a1b2099-4f52-4231-cd0b-2ff97cd52e5c"
      },
      "outputs": [
        {
          "output_type": "execute_result",
          "data": {
            "text/plain": [
              "                                             comment_text  toxic  \\\n",
              "0       Explanation\\nWhy the edits made under my usern...      0   \n",
              "1       D'aww! He matches this background colour I'm s...      0   \n",
              "2       Hey man, I'm really not trying to edit war. It...      0   \n",
              "3       \"\\nMore\\nI can't make any real suggestions on ...      0   \n",
              "4       You, sir, are my hero. Any chance you remember...      0   \n",
              "...                                                   ...    ...   \n",
              "159566  \":::::And for the second time of asking, when ...      0   \n",
              "159567  You should be ashamed of yourself \\n\\nThat is ...      0   \n",
              "159568  Spitzer \\n\\nUmm, theres no actual article for ...      0   \n",
              "159569  And it looks like it was actually you who put ...      0   \n",
              "159570  \"\\nAnd ... I really don't think you understand...      0   \n",
              "\n",
              "        severe_toxic  obscene  threat  insult  identity_hate  \n",
              "0                  0        0       0       0              0  \n",
              "1                  0        0       0       0              0  \n",
              "2                  0        0       0       0              0  \n",
              "3                  0        0       0       0              0  \n",
              "4                  0        0       0       0              0  \n",
              "...              ...      ...     ...     ...            ...  \n",
              "159566             0        0       0       0              0  \n",
              "159567             0        0       0       0              0  \n",
              "159568             0        0       0       0              0  \n",
              "159569             0        0       0       0              0  \n",
              "159570             0        0       0       0              0  \n",
              "\n",
              "[159571 rows x 7 columns]"
            ],
            "text/html": [
              "\n",
              "  <div id=\"df-73fea42b-ac79-4b07-a89f-ebf437fbe3d7\">\n",
              "    <div class=\"colab-df-container\">\n",
              "      <div>\n",
              "<style scoped>\n",
              "    .dataframe tbody tr th:only-of-type {\n",
              "        vertical-align: middle;\n",
              "    }\n",
              "\n",
              "    .dataframe tbody tr th {\n",
              "        vertical-align: top;\n",
              "    }\n",
              "\n",
              "    .dataframe thead th {\n",
              "        text-align: right;\n",
              "    }\n",
              "</style>\n",
              "<table border=\"1\" class=\"dataframe\">\n",
              "  <thead>\n",
              "    <tr style=\"text-align: right;\">\n",
              "      <th></th>\n",
              "      <th>comment_text</th>\n",
              "      <th>toxic</th>\n",
              "      <th>severe_toxic</th>\n",
              "      <th>obscene</th>\n",
              "      <th>threat</th>\n",
              "      <th>insult</th>\n",
              "      <th>identity_hate</th>\n",
              "    </tr>\n",
              "  </thead>\n",
              "  <tbody>\n",
              "    <tr>\n",
              "      <th>0</th>\n",
              "      <td>Explanation\\nWhy the edits made under my usern...</td>\n",
              "      <td>0</td>\n",
              "      <td>0</td>\n",
              "      <td>0</td>\n",
              "      <td>0</td>\n",
              "      <td>0</td>\n",
              "      <td>0</td>\n",
              "    </tr>\n",
              "    <tr>\n",
              "      <th>1</th>\n",
              "      <td>D'aww! He matches this background colour I'm s...</td>\n",
              "      <td>0</td>\n",
              "      <td>0</td>\n",
              "      <td>0</td>\n",
              "      <td>0</td>\n",
              "      <td>0</td>\n",
              "      <td>0</td>\n",
              "    </tr>\n",
              "    <tr>\n",
              "      <th>2</th>\n",
              "      <td>Hey man, I'm really not trying to edit war. It...</td>\n",
              "      <td>0</td>\n",
              "      <td>0</td>\n",
              "      <td>0</td>\n",
              "      <td>0</td>\n",
              "      <td>0</td>\n",
              "      <td>0</td>\n",
              "    </tr>\n",
              "    <tr>\n",
              "      <th>3</th>\n",
              "      <td>\"\\nMore\\nI can't make any real suggestions on ...</td>\n",
              "      <td>0</td>\n",
              "      <td>0</td>\n",
              "      <td>0</td>\n",
              "      <td>0</td>\n",
              "      <td>0</td>\n",
              "      <td>0</td>\n",
              "    </tr>\n",
              "    <tr>\n",
              "      <th>4</th>\n",
              "      <td>You, sir, are my hero. Any chance you remember...</td>\n",
              "      <td>0</td>\n",
              "      <td>0</td>\n",
              "      <td>0</td>\n",
              "      <td>0</td>\n",
              "      <td>0</td>\n",
              "      <td>0</td>\n",
              "    </tr>\n",
              "    <tr>\n",
              "      <th>...</th>\n",
              "      <td>...</td>\n",
              "      <td>...</td>\n",
              "      <td>...</td>\n",
              "      <td>...</td>\n",
              "      <td>...</td>\n",
              "      <td>...</td>\n",
              "      <td>...</td>\n",
              "    </tr>\n",
              "    <tr>\n",
              "      <th>159566</th>\n",
              "      <td>\":::::And for the second time of asking, when ...</td>\n",
              "      <td>0</td>\n",
              "      <td>0</td>\n",
              "      <td>0</td>\n",
              "      <td>0</td>\n",
              "      <td>0</td>\n",
              "      <td>0</td>\n",
              "    </tr>\n",
              "    <tr>\n",
              "      <th>159567</th>\n",
              "      <td>You should be ashamed of yourself \\n\\nThat is ...</td>\n",
              "      <td>0</td>\n",
              "      <td>0</td>\n",
              "      <td>0</td>\n",
              "      <td>0</td>\n",
              "      <td>0</td>\n",
              "      <td>0</td>\n",
              "    </tr>\n",
              "    <tr>\n",
              "      <th>159568</th>\n",
              "      <td>Spitzer \\n\\nUmm, theres no actual article for ...</td>\n",
              "      <td>0</td>\n",
              "      <td>0</td>\n",
              "      <td>0</td>\n",
              "      <td>0</td>\n",
              "      <td>0</td>\n",
              "      <td>0</td>\n",
              "    </tr>\n",
              "    <tr>\n",
              "      <th>159569</th>\n",
              "      <td>And it looks like it was actually you who put ...</td>\n",
              "      <td>0</td>\n",
              "      <td>0</td>\n",
              "      <td>0</td>\n",
              "      <td>0</td>\n",
              "      <td>0</td>\n",
              "      <td>0</td>\n",
              "    </tr>\n",
              "    <tr>\n",
              "      <th>159570</th>\n",
              "      <td>\"\\nAnd ... I really don't think you understand...</td>\n",
              "      <td>0</td>\n",
              "      <td>0</td>\n",
              "      <td>0</td>\n",
              "      <td>0</td>\n",
              "      <td>0</td>\n",
              "      <td>0</td>\n",
              "    </tr>\n",
              "  </tbody>\n",
              "</table>\n",
              "<p>159571 rows × 7 columns</p>\n",
              "</div>\n",
              "      <button class=\"colab-df-convert\" onclick=\"convertToInteractive('df-73fea42b-ac79-4b07-a89f-ebf437fbe3d7')\"\n",
              "              title=\"Convert this dataframe to an interactive table.\"\n",
              "              style=\"display:none;\">\n",
              "        \n",
              "  <svg xmlns=\"http://www.w3.org/2000/svg\" height=\"24px\"viewBox=\"0 0 24 24\"\n",
              "       width=\"24px\">\n",
              "    <path d=\"M0 0h24v24H0V0z\" fill=\"none\"/>\n",
              "    <path d=\"M18.56 5.44l.94 2.06.94-2.06 2.06-.94-2.06-.94-.94-2.06-.94 2.06-2.06.94zm-11 1L8.5 8.5l.94-2.06 2.06-.94-2.06-.94L8.5 2.5l-.94 2.06-2.06.94zm10 10l.94 2.06.94-2.06 2.06-.94-2.06-.94-.94-2.06-.94 2.06-2.06.94z\"/><path d=\"M17.41 7.96l-1.37-1.37c-.4-.4-.92-.59-1.43-.59-.52 0-1.04.2-1.43.59L10.3 9.45l-7.72 7.72c-.78.78-.78 2.05 0 2.83L4 21.41c.39.39.9.59 1.41.59.51 0 1.02-.2 1.41-.59l7.78-7.78 2.81-2.81c.8-.78.8-2.07 0-2.86zM5.41 20L4 18.59l7.72-7.72 1.47 1.35L5.41 20z\"/>\n",
              "  </svg>\n",
              "      </button>\n",
              "      \n",
              "  <style>\n",
              "    .colab-df-container {\n",
              "      display:flex;\n",
              "      flex-wrap:wrap;\n",
              "      gap: 12px;\n",
              "    }\n",
              "\n",
              "    .colab-df-convert {\n",
              "      background-color: #E8F0FE;\n",
              "      border: none;\n",
              "      border-radius: 50%;\n",
              "      cursor: pointer;\n",
              "      display: none;\n",
              "      fill: #1967D2;\n",
              "      height: 32px;\n",
              "      padding: 0 0 0 0;\n",
              "      width: 32px;\n",
              "    }\n",
              "\n",
              "    .colab-df-convert:hover {\n",
              "      background-color: #E2EBFA;\n",
              "      box-shadow: 0px 1px 2px rgba(60, 64, 67, 0.3), 0px 1px 3px 1px rgba(60, 64, 67, 0.15);\n",
              "      fill: #174EA6;\n",
              "    }\n",
              "\n",
              "    [theme=dark] .colab-df-convert {\n",
              "      background-color: #3B4455;\n",
              "      fill: #D2E3FC;\n",
              "    }\n",
              "\n",
              "    [theme=dark] .colab-df-convert:hover {\n",
              "      background-color: #434B5C;\n",
              "      box-shadow: 0px 1px 3px 1px rgba(0, 0, 0, 0.15);\n",
              "      filter: drop-shadow(0px 1px 2px rgba(0, 0, 0, 0.3));\n",
              "      fill: #FFFFFF;\n",
              "    }\n",
              "  </style>\n",
              "\n",
              "      <script>\n",
              "        const buttonEl =\n",
              "          document.querySelector('#df-73fea42b-ac79-4b07-a89f-ebf437fbe3d7 button.colab-df-convert');\n",
              "        buttonEl.style.display =\n",
              "          google.colab.kernel.accessAllowed ? 'block' : 'none';\n",
              "\n",
              "        async function convertToInteractive(key) {\n",
              "          const element = document.querySelector('#df-73fea42b-ac79-4b07-a89f-ebf437fbe3d7');\n",
              "          const dataTable =\n",
              "            await google.colab.kernel.invokeFunction('convertToInteractive',\n",
              "                                                     [key], {});\n",
              "          if (!dataTable) return;\n",
              "\n",
              "          const docLinkHtml = 'Like what you see? Visit the ' +\n",
              "            '<a target=\"_blank\" href=https://colab.research.google.com/notebooks/data_table.ipynb>data table notebook</a>'\n",
              "            + ' to learn more about interactive tables.';\n",
              "          element.innerHTML = '';\n",
              "          dataTable['output_type'] = 'display_data';\n",
              "          await google.colab.output.renderOutput(dataTable, element);\n",
              "          const docLink = document.createElement('div');\n",
              "          docLink.innerHTML = docLinkHtml;\n",
              "          element.appendChild(docLink);\n",
              "        }\n",
              "      </script>\n",
              "    </div>\n",
              "  </div>\n",
              "  "
            ]
          },
          "metadata": {},
          "execution_count": 7
        }
      ],
      "source": [
        "df.drop(['id'], axis = 1)"
      ]
    },
    {
      "cell_type": "code",
      "execution_count": 8,
      "metadata": {
        "colab": {
          "base_uri": "https://localhost:8080/",
          "height": 337
        },
        "id": "pcaLbKe_DdKt",
        "outputId": "ad667d46-58d3-4644-fdb2-712b07f14d7f"
      },
      "outputs": [
        {
          "output_type": "display_data",
          "data": {
            "text/plain": [
              "<Figure size 576x360 with 1 Axes>"
            ],
            "image/png": "[encoded data removed]"
          },
          "metadata": {
            "needs_background": "light"
          }
        }
      ],
      "source": [
        "class_distribution = df.iloc[:, 2:].sum().sort_values(axis=0, ascending=False)\n",
        "fig, ax = plt.subplots(figsize=(8, 5))\n",
        "sns.barplot(x=class_distribution.index, \n",
        "            y=class_distribution.values, \n",
        "            ax=ax, \n",
        "            palette='hls').set_title('Class Distribution Across Training Set')\n",
        "\n",
        "plt.show()"
      ]
    },
    {
      "cell_type": "code",
      "execution_count": 9,
      "metadata": {
        "colab": {
          "base_uri": "https://localhost:8080/"
        },
        "id": "XYYmT_6KDef8",
        "outputId": "c4e33e23-af41-42a0-82b8-2b3a79970dee"
      },
      "outputs": [
        {
          "output_type": "stream",
          "name": "stdout",
          "text": [
            "0    144277\n",
            "1     15294\n",
            "Name: toxic, dtype: int64\n",
            "0    157976\n",
            "1      1595\n",
            "Name: severe_toxic, dtype: int64\n",
            "0    151122\n",
            "1      8449\n",
            "Name: obscene, dtype: int64\n",
            "0    159093\n",
            "1       478\n",
            "Name: threat, dtype: int64\n",
            "0    151694\n",
            "1      7877\n",
            "Name: insult, dtype: int64\n",
            "0    158166\n",
            "1      1405\n",
            "Name: identity_hate, dtype: int64\n"
          ]
        }
      ],
      "source": [
        "labels = ['toxic', 'severe_toxic', 'obscene', 'threat', 'insult', 'identity_hate']\n",
        "for label in labels:\n",
        "  print(df[label].value_counts())"
      ]
    },
    {
      "cell_type": "code",
      "execution_count": 10,
      "metadata": {
        "colab": {
          "base_uri": "https://localhost:8080/",
          "height": 289
        },
        "id": "_ZCCYW4zDf63",
        "outputId": "df834223-324a-4dd1-c211-91a18eca03f1"
      },
      "outputs": [
        {
          "output_type": "display_data",
          "data": {
            "text/plain": [
              "<Figure size 1584x360 with 6 Axes>"
            ],
            "image/png": "[encoded data removed]"
          },
          "metadata": {
            "needs_background": "light"
          }
        }
      ],
      "source": [
        "index = 0\n",
        "fig, axes = plt.subplots(ncols=6,\n",
        "                         sharex=True,\n",
        "                         sharey=True,\n",
        "                         figsize=(22, 5))\n",
        "\n",
        "for x in df.columns[2:]:\n",
        "  sns.countplot(x=x, \n",
        "               data=df, \n",
        "               ax=axes[index],\n",
        "               palette='husl')\n",
        "  index += 1\n",
        "\n",
        "plt.show()"
      ]
    },
    {
      "cell_type": "code",
      "execution_count": 11,
      "metadata": {
        "colab": {
          "base_uri": "https://localhost:8080/",
          "height": 500
        },
        "id": "qwdQuYE7DhVg",
        "outputId": "dd190360-da96-4606-87a3-9a0909e1e338"
      },
      "outputs": [
        {
          "output_type": "display_data",
          "data": {
            "text/plain": [
              "<Figure size 792x576 with 2 Axes>"
            ],
            "image/png": "[encoded data removed]"
          },
          "metadata": {
            "needs_background": "light"
          }
        }
      ],
      "source": [
        "fig, ax = plt.subplots(figsize=(11, 8))\n",
        "sns.heatmap(df.corr(), \n",
        "            annot=True, \n",
        "            linewidths=0.5,\n",
        "            cmap='Spectral',\n",
        "            ax=ax).set_title('Correlation Matrix Between Classes')\n",
        "\n",
        "plt.show()"
      ]
    },
    {
      "cell_type": "markdown",
      "metadata": {
        "id": "I9aMo7KOhzil"
      },
      "source": [
        "##Data Preprocessing"
      ]
    },
    {
      "cell_type": "code",
      "execution_count": 12,
      "metadata": {
        "id": "SzMUxZjbDHkf"
      },
      "outputs": [],
      "source": [
        "def view_comments(df):\n",
        "  for i in range(5):\n",
        "    print(i + 1, '-', df['comment_text'][i])\n",
        "    print()\n",
        "\n",
        "def clean_comment(comment):\n",
        "  english_stopwords = stopwords.words('english')\n",
        "  # Set lowercase\n",
        "  comment = comment.lower()\n",
        "  # Remove \"\\n\"\n",
        "  comment = re.sub(r'\\n', ' ', comment)\n",
        "  # Remove \"'s\"\n",
        "  comment = re.sub(r'\\'s', '', comment)\n",
        "  # Remove \"'ve\"\n",
        "  comment = re.sub(r'\\'ve', '', comment)\n",
        "  # Remove digits but not word containing digits\n",
        "  comment = re.sub(r'\\b[0-9]+\\b\\s*','', comment)\n",
        "  # Remove stopwords\n",
        "  comment = ' '.join([word for word in comment.split() if word not in english_stopwords])\n",
        "  # Remove punctuations\n",
        "  comment = re.sub('[%s]' % re.escape(string.punctuation), '', comment)\n",
        "  # Remove whitespace\n",
        "  comment = re.sub('\\s+',' ', comment)\n",
        "  return comment"
      ]
    },
    {
      "cell_type": "code",
      "execution_count": 13,
      "metadata": {
        "colab": {
          "base_uri": "https://localhost:8080/"
        },
        "id": "w7C0Xc2TDRVF",
        "outputId": "953b3106-8196-4690-bf06-2fbb710e550b"
      },
      "outputs": [
        {
          "output_type": "stream",
          "name": "stdout",
          "text": [
            "1 - Explanation\n",
            "Why the edits made under my username Hardcore Metallica Fan were reverted? They weren't vandalisms, just closure on some GAs after I voted at New York Dolls FAC. And please don't remove the template from the talk page since I'm retired now.89.205.38.27\n",
            "\n",
            "2 - D'aww! He matches this background colour I'm seemingly stuck with. Thanks.  (talk) 21:51, January 11, 2016 (UTC)\n",
            "\n",
            "3 - Hey man, I'm really not trying to edit war. It's just that this guy is constantly removing relevant information and talking to me through edits instead of my talk page. He seems to care more about the formatting than the actual info.\n",
            "\n",
            "4 - \"\n",
            "More\n",
            "I can't make any real suggestions on improvement - I wondered if the section statistics should be later on, or a subsection of \"\"types of accidents\"\"  -I think the references may need tidying so that they are all in the exact same format ie date format etc. I can do that later on, if no-one else does first - if you have any preferences for formatting style on references or want to do it yourself please let me know.\n",
            "\n",
            "There appears to be a backlog on articles for review so I guess there may be a delay until a reviewer turns up. It's listed in the relevant form eg Wikipedia:Good_article_nominations#Transport  \"\n",
            "\n",
            "5 - You, sir, are my hero. Any chance you remember what page that's on?\n",
            "\n"
          ]
        }
      ],
      "source": [
        "view_comments(df)"
      ]
    },
    {
      "cell_type": "code",
      "execution_count": 14,
      "metadata": {
        "id": "n3n6omj2DRsA"
      },
      "outputs": [],
      "source": [
        "df['comment_text'] = df['comment_text'].map(lambda x: clean_comment(x))"
      ]
    },
    {
      "cell_type": "code",
      "execution_count": 15,
      "metadata": {
        "colab": {
          "base_uri": "https://localhost:8080/"
        },
        "id": "Qn5h4GLwDT54",
        "outputId": "1f4df892-c850-477c-a80d-b06ba4a05a26"
      },
      "outputs": [
        {
          "output_type": "stream",
          "name": "stdout",
          "text": [
            "1 - explanation edits made username hardcore metallica fan reverted vandalisms closure gas voted new york dolls fac please remove template talk page since im retired now\n",
            "\n",
            "2 - daww matches background colour im seemingly stuck with thanks talk january utc\n",
            "\n",
            "3 - hey man im really trying edit war guy constantly removing relevant information talking edits instead talk page seems care formatting actual info\n",
            "\n",
            "4 -  cant make real suggestions improvement wondered section statistics later on subsection types accidents i think references may need tidying exact format ie date format etc later on noone else first preferences formatting style references want please let know appears backlog articles review guess may delay reviewer turns up listed relevant form eg wikipediagoodarticlenominationstransport \n",
            "\n",
            "5 - you sir hero chance remember page on\n",
            "\n"
          ]
        }
      ],
      "source": [
        "view_comments(df)"
      ]
    },
    {
      "cell_type": "code",
      "execution_count": 16,
      "metadata": {
        "id": "s342CEZghSMX"
      },
      "outputs": [],
      "source": [
        "X = df['comment_text']\n",
        "y = df[df.columns[2:]].values"
      ]
    },
    {
      "cell_type": "code",
      "execution_count": 17,
      "metadata": {
        "id": "hE9rfsYKkUQ_"
      },
      "outputs": [],
      "source": [
        "max_features = 160000\n",
        "vectorizer = TextVectorization(max_tokens=max_features,\n",
        "                               output_sequence_length=1600,\n",
        "                               output_mode='int')"
      ]
    },
    {
      "cell_type": "code",
      "execution_count": 18,
      "metadata": {
        "colab": {
          "base_uri": "https://localhost:8080/"
        },
        "id": "JAFC59smTpLV",
        "outputId": "7cdad4cc-9c61-44e6-cfeb-4d642f4ef80c"
      },
      "outputs": [
        {
          "output_type": "execute_result",
          "data": {
            "text/plain": [
              "array(['explanation edits made username hardcore metallica fan reverted vandalisms closure gas voted new york dolls fac please remove template talk page since im retired now',\n",
              "       'daww matches background colour im seemingly stuck with thanks talk january utc',\n",
              "       'hey man im really trying edit war guy constantly removing relevant information talking edits instead talk page seems care formatting actual info',\n",
              "       ...,\n",
              "       'spitzer umm theres actual article prostitution ring crunch captain',\n",
              "       'looks like actually put speedy first version deleted look it',\n",
              "       ' really think understand came idea bad right away kind community goes you bad ideas go away instead helping rewrite them '],\n",
              "      dtype=object)"
            ]
          },
          "metadata": {},
          "execution_count": 18
        }
      ],
      "source": [
        "X.values"
      ]
    },
    {
      "cell_type": "code",
      "execution_count": 19,
      "metadata": {
        "id": "NIox-WxVkfPH"
      },
      "outputs": [],
      "source": [
        "vectorizer.adapt(X.values)"
      ]
    },
    {
      "cell_type": "code",
      "execution_count": 20,
      "metadata": {
        "id": "Rm0T9cV5ujGU"
      },
      "outputs": [],
      "source": [
        "vectorized_text = vectorizer(X.values)"
      ]
    },
    {
      "cell_type": "code",
      "execution_count": 21,
      "metadata": {
        "colab": {
          "base_uri": "https://localhost:8080/"
        },
        "id": "I6ECIXVVTw0c",
        "outputId": "9db16201-0516-481d-d0eb-c71d998f6083"
      },
      "outputs": [
        {
          "output_type": "execute_result",
          "data": {
            "text/plain": [
              "<tf.Tensor: shape=(159571, 1600), dtype=int64, numpy=\n",
              "array([[  540,    48,    50, ...,     0,     0,     0],\n",
              "       [    1,  2404,  1307, ...,     0,     0,     0],\n",
              "       [  329,   330,    14, ...,     0,     0,     0],\n",
              "       ...,\n",
              "       [28702,  7232,  4703, ...,     0,     0,     0],\n",
              "       [  437,     9,   112, ...,     0,     0,     0],\n",
              "       [   53,    13,   153, ...,     0,     0,     0]])>"
            ]
          },
          "metadata": {},
          "execution_count": 21
        }
      ],
      "source": [
        "vectorized_text"
      ]
    },
    {
      "cell_type": "code",
      "execution_count": 22,
      "metadata": {
        "id": "JsBo2QXHzJEu"
      },
      "outputs": [],
      "source": [
        "#pipeline deep learning tensor flow\n",
        "#MCSBAP - Map, Cache, Shuffle, Batch, Prefetch\n",
        "dataset = tf.data.Dataset.from_tensor_slices((vectorized_text, y))\n",
        "dataset = dataset.cache()\n",
        "dataset = dataset.shuffle(160000)\n",
        "dataset = dataset.batch(16)\n",
        "dataset = dataset.prefetch(8)"
      ]
    },
    {
      "cell_type": "code",
      "execution_count": 23,
      "metadata": {
        "colab": {
          "base_uri": "https://localhost:8080/"
        },
        "id": "dB3sXUg_Iew9",
        "outputId": "7577d566-ea9b-4f12-b73c-807825127845"
      },
      "outputs": [
        {
          "output_type": "execute_result",
          "data": {
            "text/plain": [
              "9974"
            ]
          },
          "metadata": {},
          "execution_count": 23
        }
      ],
      "source": [
        "len(dataset)"
      ]
    },
    {
      "cell_type": "code",
      "execution_count": 24,
      "metadata": {
        "id": "of9yrAOkIdF3"
      },
      "outputs": [],
      "source": [
        "train = dataset.take(int(len(dataset)*0.7)) # training take 70% of the dataset\n",
        "val = dataset.skip(int(len(dataset)*0.7)).take(int(len(dataset)*0.2)) # validation take 71% - 90% of the dataset\n",
        "test = dataset.skip(int(len(dataset)*0.9)).take(int(len(dataset)*0.1)) # testing take 91% - 100% of the dataset"
      ]
    },
    {
      "cell_type": "markdown",
      "metadata": {
        "id": "B45WLT3dj5J_"
      },
      "source": [
        "## Modelling"
      ]
    },
    {
      "cell_type": "code",
      "execution_count": 30,
      "metadata": {
        "id": "IhiHgY5F-Zng"
      },
      "outputs": [],
      "source": [
        "model = Sequential()\n",
        "# Create the embedding layer \n",
        "model.add(Embedding(max_features+1, 32))\n",
        "# Bidirectional LSTM Layer\n",
        "model.add(Bidirectional(LSTM(32, activation='tanh')))\n",
        "# Feature extractor Fully connected layers\n",
        "model.add(Dense(128, activation='relu'))\n",
        "model.add(Dense(256, activation='relu'))\n",
        "model.add(Dense(128, activation='relu'))\n",
        "# Final layer \n",
        "model.add(Dense(6, activation='sigmoid'))"
      ]
    },
    {
      "cell_type": "code",
      "execution_count": 31,
      "metadata": {
        "id": "GD5Lc2c1-rQu"
      },
      "outputs": [],
      "source": [
        "model.compile(optimizer='Adam', loss='BinaryCrossentropy',)"
      ]
    },
    {
      "cell_type": "code",
      "execution_count": 32,
      "metadata": {
        "colab": {
          "base_uri": "https://localhost:8080/"
        },
        "id": "zt7urbpKTSBY",
        "outputId": "fed12806-a557-46d7-f42f-d146a17556b1"
      },
      "outputs": [
        {
          "output_type": "stream",
          "name": "stdout",
          "text": [
            "Model: \"sequential_1\"\n",
            "_________________________________________________________________\n",
            " Layer (type)                Output Shape              Param #   \n",
            "=================================================================\n",
            " embedding_1 (Embedding)     (None, None, 32)          5120032   \n",
            "                                                                 \n",
            " bidirectional_1 (Bidirectio  (None, 64)               16640     \n",
            " nal)                                                            \n",
            "                                                                 \n",
            " dense_4 (Dense)             (None, 128)               8320      \n",
            "                                                                 \n",
            " dense_5 (Dense)             (None, 256)               33024     \n",
            "                                                                 \n",
            " dense_6 (Dense)             (None, 128)               32896     \n",
            "                                                                 \n",
            " dense_7 (Dense)             (None, 6)                 774       \n",
            "                                                                 \n",
            "=================================================================\n",
            "Total params: 5,211,686\n",
            "Trainable params: 5,211,686\n",
            "Non-trainable params: 0\n",
            "_________________________________________________________________\n"
          ]
        }
      ],
      "source": [
        "model.summary()"
      ]
    },
    {
      "cell_type": "code",
      "execution_count": 33,
      "metadata": {
        "colab": {
          "base_uri": "https://localhost:8080/"
        },
        "id": "HoZLz3Zi-sq_",
        "outputId": "71686940-d98a-437f-92fb-7962ad327dfe"
      },
      "outputs": [
        {
          "output_type": "stream",
          "name": "stdout",
          "text": [
            "Epoch 1/5\n",
            "6981/6981 [==============================] - 580s 82ms/step - loss: 0.0615 - val_loss: 0.0459\n",
            "Epoch 2/5\n",
            "6981/6981 [==============================] - 586s 84ms/step - loss: 0.0458 - val_loss: 0.0411\n",
            "Epoch 3/5\n",
            "6981/6981 [==============================] - 580s 83ms/step - loss: 0.0401 - val_loss: 0.0359\n",
            "Epoch 4/5\n",
            "6981/6981 [==============================] - 580s 83ms/step - loss: 0.0353 - val_loss: 0.0302\n",
            "Epoch 5/5\n",
            "6981/6981 [==============================] - 584s 84ms/step - loss: 0.0317 - val_loss: 0.0267\n"
          ]
        }
      ],
      "source": [
        "fin_model = model.fit(train, epochs=5, validation_data=val)"
      ]
    },
    {
      "cell_type": "code",
      "execution_count": 35,
      "metadata": {
        "id": "wHuijm3-ZOyF"
      },
      "outputs": [],
      "source": [
        "model.save('/content/gdrive/MyDrive/Colab Notebooks/Projects/Toxic Comment Classification/ToxicCommentClassifierE5.h5')"
      ]
    },
    {
      "cell_type": "code",
      "execution_count": 28,
      "metadata": {
        "id": "1ZaosXh3bUa-"
      },
      "outputs": [],
      "source": [
        "model = tf.keras.models.load_model('/content/gdrive/MyDrive/Colab Notebooks/Projects/Toxic Comment Classification/Dataset/ToxicCommentClassifierE5.h5')"
      ]
    },
    {
      "cell_type": "code",
      "source": [
        "plt.figure(figsize=(8,5))\n",
        "pd.DataFrame(fin_model.history).plot()\n",
        "plt.show()"
      ],
      "metadata": {
        "colab": {
          "base_uri": "https://localhost:8080/",
          "height": 282
        },
        "id": "u09Oou3cN6iK",
        "outputId": "257b0d9b-fb28-445b-ba55-1f899b486408"
      },
      "execution_count": 36,
      "outputs": [
        {
          "output_type": "display_data",
          "data": {
            "text/plain": [
              "<Figure size 576x360 with 0 Axes>"
            ]
          },
          "metadata": {}
        },
        {
          "output_type": "display_data",
          "data": {
            "text/plain": [
              "<Figure size 432x288 with 1 Axes>"
            ],
            "image/png": "[encoded data removed]"
          },
          "metadata": {
            "needs_background": "light"
          }
        }
      ]
    },
    {
      "cell_type": "markdown",
      "metadata": {
        "id": "LYIDynmn-y8p"
      },
      "source": [
        "##Predicting Result"
      ]
    },
    {
      "cell_type": "code",
      "execution_count": 72,
      "metadata": {
        "colab": {
          "base_uri": "https://localhost:8080/"
        },
        "id": "RH6l1vnA-zOJ",
        "outputId": "5eb49829-a85b-4dd0-a537-02a0d214e89e"
      },
      "outputs": [
        {
          "output_type": "execute_result",
          "data": {
            "text/plain": [
              "array([[0.9967205 , 0.13781078, 0.978013  , 0.00645655, 0.87046295,\n",
              "        0.03557914]], dtype=float32)"
            ]
          },
          "metadata": {},
          "execution_count": 72
        }
      ],
      "source": [
        "text = 'You suck, get out of my face!'\n",
        "input_text = vectorizer(text)\n",
        "res = model.predict(np.array([input_text]))\n",
        "res"
      ]
    },
    {
      "cell_type": "code",
      "execution_count": 67,
      "metadata": {
        "colab": {
          "base_uri": "https://localhost:8080/"
        },
        "id": "XIkw1etaZy89",
        "outputId": "4337c3db-28f5-4da6-f1e6-2c5c6680d051"
      },
      "outputs": [
        {
          "output_type": "execute_result",
          "data": {
            "text/plain": [
              "Index(['toxic', 'severe_toxic', 'obscene', 'threat', 'insult',\n",
              "       'identity_hate'],\n",
              "      dtype='object')"
            ]
          },
          "metadata": {},
          "execution_count": 67
        }
      ],
      "source": [
        "df.columns[2:]"
      ]
    },
    {
      "cell_type": "code",
      "source": [
        "print('This sentence : \\'' + text+ '\\' classified as,')\n",
        "for i in range(6):\n",
        "    print(df.columns[i+2] + ' : ' + str(round(res[0, i] * 100,2)) + ' %')"
      ],
      "metadata": {
        "colab": {
          "base_uri": "https://localhost:8080/"
        },
        "id": "Hsj2Yq-bPShE",
        "outputId": "cd7dd917-7d75-4c90-fe0d-14d12ea4dba2"
      },
      "execution_count": 68,
      "outputs": [
        {
          "output_type": "stream",
          "name": "stdout",
          "text": [
            "This sentence : 'You suck, get out of my face!' classified as,\n",
            "toxic : 99.67 %\n",
            "severe_toxic : 13.78 %\n",
            "obscene : 97.8 %\n",
            "threat : 0.65 %\n",
            "insult : 87.05 %\n",
            "identity_hate : 3.56 %\n"
          ]
        }
      ]
    },
    {
      "cell_type": "markdown",
      "metadata": {
        "id": "FL_itWIA_nRa"
      },
      "source": [
        "##Evaluate the model"
      ]
    },
    {
      "cell_type": "code",
      "execution_count": 39,
      "metadata": {
        "colab": {
          "base_uri": "https://localhost:8080/"
        },
        "id": "3TQY9FS6_nyt",
        "outputId": "820ee7cb-84d9-44ed-c459-20cbf08e1533"
      },
      "outputs": [
        {
          "output_type": "stream",
          "name": "stdout",
          "text": [
            "Precision: 0.8623229265213013, Recall:0.8640363216400146, Accuracy:0.5145436525344849\n"
          ]
        }
      ],
      "source": [
        "precision = Precision()\n",
        "recall = Recall()\n",
        "acc = CategoricalAccuracy()\n",
        "\n",
        "#iterate all the bacthes to see the evaluation\n",
        "for batch in test.as_numpy_iterator(): \n",
        "    X_true, y_true = batch\n",
        "    yhat = model.predict(X_true)\n",
        "    \n",
        "    y_true = y_true.flatten()\n",
        "    yhat = yhat.flatten()\n",
        "    \n",
        "    precision.update_state(y_true, yhat)\n",
        "    recall.update_state(y_true, yhat)\n",
        "    acc.update_state(y_true, yhat)\n",
        "print(f'Precision: {precision.result().numpy()}, Recall:{recall.result().numpy()}, Accuracy:{acc.result().numpy()}')\n",
        "\n",
        "#disini mungkin akurasi tidak besar karena epoch model yang dilakukan hanya 5, karena waktu compile sangat lama, kalau epcoh dinaikan mungkin akurasi juga akan meningkat"
      ]
    },
    {
      "cell_type": "markdown",
      "source": [
        "##Let's try classify text"
      ],
      "metadata": {
        "id": "zwyTkK-fRZCX"
      }
    },
    {
      "cell_type": "code",
      "source": [
        "while True:\n",
        "    texts = input('Write a toxic text (type \\'quit\\' to exit) : ')\n",
        "    if texts == 'quit':\n",
        "        break\n",
        "\n",
        "    input_texts = vectorizer(texts)\n",
        "    res = model.predict(np.array([input_texts]))\n",
        "\n",
        "    print('This sentence : \\'' + texts + '\\' classified as,')\n",
        "    for i in range(6):\n",
        "        print(df.columns[i+2] + ' : ' + str(round(res[0, i] * 100,2)) + ' %')\n",
        "        \n",
        "    print(' ')"
      ],
      "metadata": {
        "colab": {
          "base_uri": "https://localhost:8080/"
        },
        "id": "Et9MDVVzReTh",
        "outputId": "3fcb1559-783c-4376-bac3-02d62ab7ae16"
      },
      "execution_count": 80,
      "outputs": [
        {
          "name": "stdout",
          "output_type": "stream",
          "text": [
            "Write a toxic text (type 'quit' to exit) : Hey how are you?\n",
            "This sentence : 'Hey how are you?' classified as,\n",
            "toxic : 9.95 %\n",
            "severe_toxic : 0.0 %\n",
            "obscene : 0.16 %\n",
            "threat : 0.67 %\n",
            "insult : 1.35 %\n",
            "identity_hate : 0.26 %\n",
            " \n",
            "Write a toxic text (type 'quit' to exit) : Im not that good\n",
            "This sentence : 'Im not that good' classified as,\n",
            "toxic : 0.12 %\n",
            "severe_toxic : 0.0 %\n",
            "obscene : 0.0 %\n",
            "threat : 0.0 %\n",
            "insult : 0.0 %\n",
            "identity_hate : 0.0 %\n",
            " \n",
            "Write a toxic text (type 'quit' to exit) : You are an idiot\n",
            "This sentence : 'You are an idiot' classified as,\n",
            "toxic : 97.68 %\n",
            "severe_toxic : 1.07 %\n",
            "obscene : 69.16 %\n",
            "threat : 0.24 %\n",
            "insult : 82.81 %\n",
            "identity_hate : 4.46 %\n",
            " \n",
            "Write a toxic text (type 'quit' to exit) : i hope you will die soon\n",
            "This sentence : 'i hope you will die soon' classified as,\n",
            "toxic : 60.99 %\n",
            "severe_toxic : 0.34 %\n",
            "obscene : 1.44 %\n",
            "threat : 14.29 %\n",
            "insult : 8.71 %\n",
            "identity_hate : 9.68 %\n",
            " \n",
            "Write a toxic text (type 'quit' to exit) : quit\n"
          ]
        }
      ]
    }
  ],
  "metadata": {
    "accelerator": "GPU",
    "colab": {
      "provenance": [],
      "authorship_tag": "ABX9TyOiki0uAh6oUlMPOymob1Yz",
      "include_colab_link": true
    },
    "kernelspec": {
      "display_name": "Python 3",
      "name": "python3"
    },
    "language_info": {
      "name": "python"
    }
  },
  "nbformat": 4,
  "nbformat_minor": 0
}